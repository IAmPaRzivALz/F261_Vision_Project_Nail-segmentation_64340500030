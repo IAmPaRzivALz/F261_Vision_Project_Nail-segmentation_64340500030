{
 "cells": [
  {
   "cell_type": "markdown",
   "metadata": {},
   "source": [
    "# FRA261: Robot Vision: Nail segmentation_HSV color segmentation\n",
    "member\n",
    "\n",
    "นายธรรมสรณ์ โรจนอัครพงศ์ 64340500030"
   ]
  },
  {
   "cell_type": "markdown",
   "metadata": {},
   "source": [
    "## HSV color segmentation"
   ]
  },
  {
   "cell_type": "markdown",
   "metadata": {},
   "source": [
    "### Import libraries"
   ]
  },
  {
   "cell_type": "code",
   "execution_count": 10,
   "metadata": {},
   "outputs": [],
   "source": [
    "import cv2\n",
    "import numpy as np\n",
    "import os"
   ]
  },
  {
   "cell_type": "markdown",
   "metadata": {},
   "source": [
    "### Define path"
   ]
  },
  {
   "cell_type": "code",
   "execution_count": 11,
   "metadata": {},
   "outputs": [],
   "source": [
    "# Path to the folder containing the images\n",
    "folder_path = r\"D:\\kmutt\\FIBO 3.2\\Courses\\FRA261 Vision\\Project\\HSV\\Dataset\\Koilonychia\" \n",
    "\n",
    "# Define the output folders for original images, masks, and result images\n",
    "# Change path of dataset's class below\n",
    "output_folder = r\"D:\\kmutt\\FIBO 3.2\\Courses\\FRA261 Vision\\Project\\HSV\\Dataset\\Koilonychia result\"\n",
    "original_folder = os.path.join(output_folder, \"Original\")\n",
    "mask_folder = os.path.join(output_folder, \"Mask\")\n",
    "result_folder = os.path.join(output_folder, \"Result\")\n",
    "\n",
    "# Create the output directories if they don't exist\n",
    "os.makedirs(original_folder, exist_ok=True)\n",
    "os.makedirs(mask_folder, exist_ok=True)\n",
    "os.makedirs(result_folder, exist_ok=True)"
   ]
  },
  {
   "cell_type": "markdown",
   "metadata": {},
   "source": [
    "### HSV color segmentation algorithm"
   ]
  },
  {
   "cell_type": "code",
   "execution_count": 12,
   "metadata": {},
   "outputs": [
    {
     "name": "stdout",
     "output_type": "stream",
     "text": [
      "Processing complete. Images are saved in the specified folders.\n"
     ]
    }
   ],
   "source": [
    "# Define the HSV range for skin color\n",
    "lower_hsv = np.array([0, 20, 70], dtype=np.uint8)\n",
    "upper_hsv = np.array([20, 255, 255], dtype=np.uint8)\n",
    "\n",
    "# Loop through all files in the folder\n",
    "for filename in os.listdir(folder_path):\n",
    "    if filename.endswith(\".jpg\") or filename.endswith(\".png\"):  # Process only .jpg and .png files\n",
    "        image_path = os.path.join(folder_path, filename)\n",
    "        \n",
    "        # Load the image\n",
    "        image = cv2.imread(image_path)\n",
    "\n",
    "        # Convert image to HSV\n",
    "        image_hsv = cv2.cvtColor(image, cv2.COLOR_BGR2HSV)\n",
    "\n",
    "        # Threshold the HSV image to get only the skin color\n",
    "        mask = cv2.inRange(image_hsv, lower_hsv, upper_hsv)\n",
    "\n",
    "        # Bitwise-AND mask and original image\n",
    "        result = cv2.bitwise_and(image, image, mask=mask)\n",
    "\n",
    "        # Save the original image\n",
    "        original_image_path = os.path.join(original_folder, filename)\n",
    "        cv2.imwrite(original_image_path, image)\n",
    "\n",
    "        # Save the mask\n",
    "        mask_image_path = os.path.join(mask_folder, filename)\n",
    "        cv2.imwrite(mask_image_path, mask)\n",
    "\n",
    "        # Save the result image\n",
    "        result_image_path = os.path.join(result_folder, filename)\n",
    "        cv2.imwrite(result_image_path, result)\n",
    "\n",
    "print(\"Processing complete. Images are saved in the specified folders.\")"
   ]
  }
 ],
 "metadata": {
  "kernelspec": {
   "display_name": "base",
   "language": "python",
   "name": "python3"
  },
  "language_info": {
   "codemirror_mode": {
    "name": "ipython",
    "version": 3
   },
   "file_extension": ".py",
   "mimetype": "text/x-python",
   "name": "python",
   "nbconvert_exporter": "python",
   "pygments_lexer": "ipython3",
   "version": "3.10.9"
  }
 },
 "nbformat": 4,
 "nbformat_minor": 2
}
